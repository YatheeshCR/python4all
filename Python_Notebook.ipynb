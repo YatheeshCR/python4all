{
  "nbformat": 4,
  "nbformat_minor": 0,
  "metadata": {
    "colab": {
      "name": "Python_Notebook.ipynb",
      "provenance": [],
      "collapsed_sections": [],
      "authorship_tag": "ABX9TyN/eiFKwB0uKLI//3JBSsVW"
    },
    "kernelspec": {
      "name": "python3",
      "display_name": "Python 3"
    },
    "language_info": {
      "name": "python"
    }
  },
  "cells": [
    {
      "cell_type": "markdown",
      "metadata": {
        "id": "_M6Nn22Z2kXZ"
      },
      "source": [
        "Type Conversions\n"
      ]
    },
    {
      "cell_type": "markdown",
      "metadata": {
        "id": "Yb1tDaIO_r_1"
      },
      "source": [
        ""
      ]
    },
    {
      "cell_type": "code",
      "metadata": {
        "id": "NHweD1il3kdB"
      },
      "source": [
        "#This is type conversion code\n",
        "result='10'\n",
        "print(type(result))\n",
        "print(float(result))\n",
        "print(int(result))\n"
      ],
      "execution_count": null,
      "outputs": []
    },
    {
      "cell_type": "code",
      "metadata": {
        "id": "Pp3p0-HB38VA"
      },
      "source": [
        "#Converting string into list  \n",
        "mystring='abcdef'\n",
        "print(type(mystring))\n",
        "print(list(mystring))\n",
        "print(tuple(mystring))\n",
        "\n",
        "#converting a list to Tuple\n",
        "mylist=['abc',10,'def',25.5]\n",
        "print(type(mylist))\n",
        "print(tuple(mylist))\n",
        "\n",
        "#converting list to string\n",
        "changed_string=str(mylist)\n",
        "print(changed_string)\n",
        "print(type(changed_string))\n",
        "\n",
        "#working with dictionary\n",
        "#converting dictionary to list - it will consider only values and not keys\n",
        "my_dict={'name':'Yatheesh', 'age': 22}\n",
        "print(list(my_dict))\n",
        "\n",
        "#converting range to list and tuple\n",
        "my_range=range(10)\n",
        "print(list(my_range))\n",
        "print(tuple(my_range))"
      ],
      "execution_count": null,
      "outputs": []
    },
    {
      "cell_type": "markdown",
      "metadata": {
        "id": "nfCQIWLY6VNK"
      },
      "source": [
        "#OPERATORS"
      ]
    },
    {
      "cell_type": "markdown",
      "metadata": {
        "id": "Vz3MkoswAEfg"
      },
      "source": [
        "Arithematic Operators"
      ]
    },
    {
      "cell_type": "code",
      "metadata": {
        "id": "lJ3MzuV_8AkN"
      },
      "source": [
        "#ARITHEMATIC OPERATORS\n",
        "\n",
        "#Addition (+)\n",
        "print(2+3)\n",
        "print('hello'+'world')\n",
        "print(10.234+63.248)\n",
        "list1=['hello','Yatheesh', 10,55]\n",
        "list2=['i am','God',100,6348]\n",
        "print(list1+list2)\n",
        "print(False+True)\n",
        "#list and tuple cannot be added\n",
        "\n",
        "#Subtraction (-)\n",
        "print(2-3)\n",
        "print(10.23-6.874)\n",
        "print(True-True)\n",
        "\n",
        "\n",
        "#Multiplication(*)\n",
        "print('&&&&&&&&&&&&&&&&&&&')\n",
        "print('&'*15)\n",
        "mystringo='class'\n",
        "print(mystringo*5)\n",
        "\n",
        "\n",
        "#Division(/)\n",
        "print(98/32)\n",
        "print(False/6)\n",
        "\n",
        "#Floor Division (//) - Removes decimal places and keeps only integer\n",
        "print(7/3)\n",
        "print(7//3)\n",
        "\n",
        "#exponents(**)\n",
        "print(2**5)\n",
        "print(25**6)\n",
        "\n",
        "#Modulus(%)\n",
        "print(18.368%4)\n"
      ],
      "execution_count": null,
      "outputs": []
    },
    {
      "cell_type": "markdown",
      "metadata": {
        "id": "Shs-UtiMAILA"
      },
      "source": [
        "Assigment Operators"
      ]
    },
    {
      "cell_type": "code",
      "metadata": {
        "id": "Of7gG4AzAK0h"
      },
      "source": [
        "#ASSIGNMENT OPERATORS\n",
        "\n",
        "var1=10\n",
        "var2=10\n",
        "var1+=20 #var1=var1+20\n",
        "var2-=30 #var2=var2-20\n",
        "print(var1,var2)"
      ],
      "execution_count": null,
      "outputs": []
    },
    {
      "cell_type": "markdown",
      "metadata": {
        "id": "H8MsHnlkBNcQ"
      },
      "source": [
        "Comparison Operators\n"
      ]
    },
    {
      "cell_type": "code",
      "metadata": {
        "id": "kpd2mnuWBVqP"
      },
      "source": [
        "#COMPARISON OPERATORS\n",
        "var1=10\n",
        "var2=20\n",
        "var3=20\n",
        "print(var1==var2)\n",
        "print(var2==var3)\n",
        "print(10==20)\n",
        "print('hello'=='helllooo')\n",
        "print(False==False)\n",
        "\n",
        "print(10<20)\n",
        "print(20.34>845.368)\n"
      ],
      "execution_count": null,
      "outputs": []
    },
    {
      "cell_type": "markdown",
      "metadata": {
        "id": "daw6V1dpDqoo"
      },
      "source": [
        "Logical Operators"
      ]
    },
    {
      "cell_type": "code",
      "metadata": {
        "id": "1LL3mGw2Dszb"
      },
      "source": [
        "#LOGICAL OPERATORS\n",
        "\n",
        "print(True and True)\n",
        "print(True and False)\n",
        "print(True or False)\n",
        "var1=10\n",
        "var2=55\n",
        "str1='hello'\n",
        "str2='hello'\n",
        "print(var1<var2 and str1 != str2)"
      ],
      "execution_count": null,
      "outputs": []
    },
    {
      "cell_type": "markdown",
      "metadata": {
        "id": "OZPavwWQ_ukB"
      },
      "source": [
        ""
      ]
    },
    {
      "cell_type": "markdown",
      "metadata": {
        "id": "RWsXjEVhRpBp"
      },
      "source": [
        "# New Section"
      ]
    }
  ]
}